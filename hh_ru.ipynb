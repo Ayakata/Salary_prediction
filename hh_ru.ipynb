{
 "cells": [
  {
   "cell_type": "code",
   "execution_count": 185,
   "metadata": {},
   "outputs": [],
   "source": [
    "import requests\n",
    "import numpy as np\n",
    "import pandas as pd\n",
    "\n",
    "from scipy.sparse import hstack\n",
    "\n",
    "from sklearn.feature_extraction.text import TfidfVectorizer\n",
    "from sklearn.linear_model import Ridge\n",
    "from sklearn.feature_extraction import DictVectorizer"
   ]
  },
  {
   "cell_type": "code",
   "execution_count": 198,
   "metadata": {},
   "outputs": [],
   "source": [
    "jobs = ['Data Scientist', 'Data Analyst']\n",
    "vacancies = pd.DataFrame(columns=['employment', 'description', 'salary'])\n",
    "ids = []\n",
    "\n",
    "for job in jobs:\n",
    "    url = 'https://api.hh.ru/vacancies'\n",
    "    params = {'text' : job,\n",
    "              'only_with_salary' : True,\n",
    "              'page' : 0,\n",
    "              'per_page' : 100}\n",
    "\n",
    "    st = requests.get(url, params).json()\n",
    "\n",
    "    for i in range(len(st['items'])):\n",
    "        id = st['items'][i]['id']\n",
    "        if id in ids:\n",
    "            continue\n",
    "        ids.append(id)\n",
    "        vacancy = requests.get(\"https://api.hh.ru/vacancies/\" + id + \"?host=hh.ru\").json()\n",
    "        if vacancy['salary']['currency'] != 'RUR':\n",
    "            continue\n",
    "        if vacancy['salary']['from'] is None:\n",
    "            salary = int(vacancy['salary']['to'])\n",
    "        elif vacancy['salary']['to'] is None:\n",
    "            salary = int(vacancy['salary']['from'])\n",
    "        else:\n",
    "            salary = (int(vacancy['salary']['from']) + int(vacancy['salary']['to'])) // 2\n",
    "        vac_data = pd.DataFrame([[vacancy['employment']['id'],\n",
    "                                  vacancy['description'],\n",
    "                                  salary]],\n",
    "                                columns=['employment', 'description', 'salary'])\n",
    "        vacancies = vacancies.append(vac_data, ignore_index=True)"
   ]
  },
  {
   "cell_type": "code",
   "execution_count": 205,
   "metadata": {},
   "outputs": [],
   "source": [
    "target_vacancies = pd.DataFrame(columns=['employment', 'description', 'salary'])\n",
    "target_ids = ['38696758', '37080920']\n",
    "\n",
    "for target_id in target_ids:\n",
    "    vacancy = requests.get(\"https://api.hh.ru/vacancies/\" + target_id + \"?host=hh.ru\").json()\n",
    "    vac_data = pd.DataFrame([[vacancy['employment']['id'],\n",
    "                              vacancy['description'],\n",
    "                              'NaN']],\n",
    "                            columns=['employment', 'description', 'salary'])\n",
    "    target_vacancies = target_vacancies.append(vac_data, ignore_index=True)"
   ]
  },
  {
   "cell_type": "code",
   "execution_count": 207,
   "metadata": {},
   "outputs": [],
   "source": [
    "vacancies.description = vacancies['description'].apply(lambda x: x.lower())\n",
    "vacancies.description = vacancies['description'].replace('<[/\\w]+>', ' ', regex = True)\n",
    "vacancies.description = vacancies['description'].replace('[^ЁёА-яa-zA-Z0-9]', ' ', regex = True)\n",
    "\n",
    "target_vacancies.description = target_vacancies['description'].apply(lambda x: x.lower())\n",
    "target_vacancies.description = target_vacancies['description'].replace('<[/\\w]+>', ' ', regex = True)\n",
    "target_vacancies.description = target_vacancies['description'].replace('[^ЁёА-яa-zA-Z0-9]', ' ', regex = True)"
   ]
  },
  {
   "cell_type": "code",
   "execution_count": 208,
   "metadata": {},
   "outputs": [
    {
     "data": {
      "text/html": [
       "<div>\n",
       "<style scoped>\n",
       "    .dataframe tbody tr th:only-of-type {\n",
       "        vertical-align: middle;\n",
       "    }\n",
       "\n",
       "    .dataframe tbody tr th {\n",
       "        vertical-align: top;\n",
       "    }\n",
       "\n",
       "    .dataframe thead th {\n",
       "        text-align: right;\n",
       "    }\n",
       "</style>\n",
       "<table border=\"1\" class=\"dataframe\">\n",
       "  <thead>\n",
       "    <tr style=\"text-align: right;\">\n",
       "      <th></th>\n",
       "      <th>employment</th>\n",
       "      <th>description</th>\n",
       "      <th>salary</th>\n",
       "    </tr>\n",
       "  </thead>\n",
       "  <tbody>\n",
       "    <tr>\n",
       "      <th>0</th>\n",
       "      <td>full</td>\n",
       "      <td>мы занимается разработкой и внедрением програ...</td>\n",
       "      <td>NaN</td>\n",
       "    </tr>\n",
       "    <tr>\n",
       "      <th>1</th>\n",
       "      <td>full</td>\n",
       "      <td>команда лаборатории интерактивной визуализаци...</td>\n",
       "      <td>NaN</td>\n",
       "    </tr>\n",
       "  </tbody>\n",
       "</table>\n",
       "</div>"
      ],
      "text/plain": [
       "  employment                                        description salary\n",
       "0       full   мы занимается разработкой и внедрением програ...    NaN\n",
       "1       full   команда лаборатории интерактивной визуализаци...    NaN"
      ]
     },
     "execution_count": 208,
     "metadata": {},
     "output_type": "execute_result"
    }
   ],
   "source": [
    "target_vacancies"
   ]
  },
  {
   "cell_type": "code",
   "execution_count": 217,
   "metadata": {},
   "outputs": [],
   "source": [
    "vectorizer = TfidfVectorizer(min_df=5)\n",
    "X_train_vec = vectorizer.fit_transform(vacancies['description'])\n",
    "X_test_vec = vectorizer.transform(target_vacancies['description'])"
   ]
  },
  {
   "cell_type": "code",
   "execution_count": 218,
   "metadata": {},
   "outputs": [],
   "source": [
    "enc = DictVectorizer()\n",
    "X_train_categ = enc.fit_transform(vacancies[['employment']].to_dict('records'))\n",
    "X_test_categ = enc.transform(target_vacancies[['employment']].to_dict('records'))"
   ]
  },
  {
   "cell_type": "code",
   "execution_count": 219,
   "metadata": {},
   "outputs": [],
   "source": [
    "X_for_train = hstack([X_train_vec, X_train_categ])\n",
    "X_for_test = hstack([X_test_vec, X_test_categ])"
   ]
  },
  {
   "cell_type": "code",
   "execution_count": 220,
   "metadata": {},
   "outputs": [],
   "source": [
    "ridge = Ridge(alpha=1, random_state=241)"
   ]
  },
  {
   "cell_type": "code",
   "execution_count": 221,
   "metadata": {},
   "outputs": [],
   "source": [
    "y_for_train = vacancies['salary'].values"
   ]
  },
  {
   "cell_type": "code",
   "execution_count": 222,
   "metadata": {},
   "outputs": [
    {
     "data": {
      "text/plain": [
       "Ridge(alpha=1, copy_X=True, fit_intercept=True, max_iter=None, normalize=False,\n",
       "      random_state=241, solver='auto', tol=0.001)"
      ]
     },
     "execution_count": 222,
     "metadata": {},
     "output_type": "execute_result"
    }
   ],
   "source": [
    "ridge.fit(X_for_train, y_for_train)"
   ]
  },
  {
   "cell_type": "code",
   "execution_count": 223,
   "metadata": {},
   "outputs": [
    {
     "data": {
      "text/plain": [
       "array([193585.63505216, 178232.1434522 ])"
      ]
     },
     "execution_count": 223,
     "metadata": {},
     "output_type": "execute_result"
    }
   ],
   "source": [
    "ridge.predict(X_for_test)"
   ]
  },
  {
   "cell_type": "code",
   "execution_count": null,
   "metadata": {},
   "outputs": [],
   "source": []
  }
 ],
 "metadata": {
  "kernelspec": {
   "display_name": "Python 3",
   "language": "python",
   "name": "python3"
  },
  "language_info": {
   "codemirror_mode": {
    "name": "ipython",
    "version": 3
   },
   "file_extension": ".py",
   "mimetype": "text/x-python",
   "name": "python",
   "nbconvert_exporter": "python",
   "pygments_lexer": "ipython3",
   "version": "3.7.6"
  }
 },
 "nbformat": 4,
 "nbformat_minor": 4
}
